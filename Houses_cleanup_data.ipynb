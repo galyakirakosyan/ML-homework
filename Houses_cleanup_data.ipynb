{
 "cells": [
  {
   "cell_type": "code",
   "execution_count": 1,
   "metadata": {},
   "outputs": [],
   "source": [
    "import matplotlib.pyplot as plt\n",
    "import matplotlib.gridspec as gridspec\n",
    "from scipy.stats import norm\n",
    "\n",
    "from sklearn.pipeline import Pipeline\n",
    "from sklearn.preprocessing import StandardScaler\n",
    "from sklearn.linear_model import LogisticRegression\n",
    "from sklearn.preprocessing import normalize\n",
    "from sklearn import model_selection, preprocessing\n",
    "import xgboost as xgb\n",
    "\n",
    "\n",
    "import seaborn as sns\n",
    "color = sns.color_palette()\n",
    "%matplotlib inline"
   ]
  },
  {
   "cell_type": "code",
   "execution_count": 2,
   "metadata": {},
   "outputs": [],
   "source": [
    "import pandas as pd\n",
    "import numpy as np\n",
    "\n",
    "houses_train = pd.read_csv(\"C:/Users/ML/Downloads/Houses/all/train.csv\")\n",
    "houses_test = pd.read_csv(\"C:/Users/ML/Downloads/Houses/all/test.csv\")\n",
    "\n",
    "np.random.seed(0) "
   ]
  },
  {
   "cell_type": "code",
   "execution_count": 3,
   "metadata": {},
   "outputs": [
    {
     "name": "stdout",
     "output_type": "stream",
     "text": [
      "Index(['id', 'timestamp', 'full_sq', 'life_sq', 'floor', 'max_floor',\n",
      "       'material', 'build_year', 'num_room', 'kitch_sq',\n",
      "       ...\n",
      "       'cafe_count_5000_price_2500', 'cafe_count_5000_price_4000',\n",
      "       'cafe_count_5000_price_high', 'big_church_count_5000',\n",
      "       'church_count_5000', 'mosque_count_5000', 'leisure_count_5000',\n",
      "       'sport_count_5000', 'market_count_5000', 'price_doc'],\n",
      "      dtype='object', length=292)\n",
      "(30471, 292)\n",
      "(7662, 291)\n"
     ]
    }
   ],
   "source": [
    "print(houses_train.columns)\n",
    "print(houses_train.shape)\n",
    "print(houses_test.shape)"
   ]
  },
  {
   "cell_type": "code",
   "execution_count": 4,
   "metadata": {},
   "outputs": [
    {
     "data": {
      "text/html": [
       "<div>\n",
       "<style scoped>\n",
       "    .dataframe tbody tr th:only-of-type {\n",
       "        vertical-align: middle;\n",
       "    }\n",
       "\n",
       "    .dataframe tbody tr th {\n",
       "        vertical-align: top;\n",
       "    }\n",
       "\n",
       "    .dataframe thead th {\n",
       "        text-align: right;\n",
       "    }\n",
       "</style>\n",
       "<table border=\"1\" class=\"dataframe\">\n",
       "  <thead>\n",
       "    <tr style=\"text-align: right;\">\n",
       "      <th></th>\n",
       "      <th>id</th>\n",
       "      <th>timestamp</th>\n",
       "      <th>full_sq</th>\n",
       "      <th>life_sq</th>\n",
       "      <th>floor</th>\n",
       "      <th>max_floor</th>\n",
       "      <th>material</th>\n",
       "      <th>build_year</th>\n",
       "      <th>num_room</th>\n",
       "      <th>kitch_sq</th>\n",
       "      <th>...</th>\n",
       "      <th>cafe_count_5000_price_2500</th>\n",
       "      <th>cafe_count_5000_price_4000</th>\n",
       "      <th>cafe_count_5000_price_high</th>\n",
       "      <th>big_church_count_5000</th>\n",
       "      <th>church_count_5000</th>\n",
       "      <th>mosque_count_5000</th>\n",
       "      <th>leisure_count_5000</th>\n",
       "      <th>sport_count_5000</th>\n",
       "      <th>market_count_5000</th>\n",
       "      <th>price_doc</th>\n",
       "    </tr>\n",
       "  </thead>\n",
       "  <tbody>\n",
       "    <tr>\n",
       "      <th>0</th>\n",
       "      <td>1</td>\n",
       "      <td>2011-08-20</td>\n",
       "      <td>43</td>\n",
       "      <td>27.0</td>\n",
       "      <td>4.0</td>\n",
       "      <td>NaN</td>\n",
       "      <td>NaN</td>\n",
       "      <td>NaN</td>\n",
       "      <td>NaN</td>\n",
       "      <td>NaN</td>\n",
       "      <td>...</td>\n",
       "      <td>9</td>\n",
       "      <td>4</td>\n",
       "      <td>0</td>\n",
       "      <td>13</td>\n",
       "      <td>22</td>\n",
       "      <td>1</td>\n",
       "      <td>0</td>\n",
       "      <td>52</td>\n",
       "      <td>4</td>\n",
       "      <td>5850000</td>\n",
       "    </tr>\n",
       "    <tr>\n",
       "      <th>1</th>\n",
       "      <td>2</td>\n",
       "      <td>2011-08-23</td>\n",
       "      <td>34</td>\n",
       "      <td>19.0</td>\n",
       "      <td>3.0</td>\n",
       "      <td>NaN</td>\n",
       "      <td>NaN</td>\n",
       "      <td>NaN</td>\n",
       "      <td>NaN</td>\n",
       "      <td>NaN</td>\n",
       "      <td>...</td>\n",
       "      <td>15</td>\n",
       "      <td>3</td>\n",
       "      <td>0</td>\n",
       "      <td>15</td>\n",
       "      <td>29</td>\n",
       "      <td>1</td>\n",
       "      <td>10</td>\n",
       "      <td>66</td>\n",
       "      <td>14</td>\n",
       "      <td>6000000</td>\n",
       "    </tr>\n",
       "    <tr>\n",
       "      <th>2</th>\n",
       "      <td>3</td>\n",
       "      <td>2011-08-27</td>\n",
       "      <td>43</td>\n",
       "      <td>29.0</td>\n",
       "      <td>2.0</td>\n",
       "      <td>NaN</td>\n",
       "      <td>NaN</td>\n",
       "      <td>NaN</td>\n",
       "      <td>NaN</td>\n",
       "      <td>NaN</td>\n",
       "      <td>...</td>\n",
       "      <td>10</td>\n",
       "      <td>3</td>\n",
       "      <td>0</td>\n",
       "      <td>11</td>\n",
       "      <td>27</td>\n",
       "      <td>0</td>\n",
       "      <td>4</td>\n",
       "      <td>67</td>\n",
       "      <td>10</td>\n",
       "      <td>5700000</td>\n",
       "    </tr>\n",
       "    <tr>\n",
       "      <th>3</th>\n",
       "      <td>4</td>\n",
       "      <td>2011-09-01</td>\n",
       "      <td>89</td>\n",
       "      <td>50.0</td>\n",
       "      <td>9.0</td>\n",
       "      <td>NaN</td>\n",
       "      <td>NaN</td>\n",
       "      <td>NaN</td>\n",
       "      <td>NaN</td>\n",
       "      <td>NaN</td>\n",
       "      <td>...</td>\n",
       "      <td>11</td>\n",
       "      <td>2</td>\n",
       "      <td>1</td>\n",
       "      <td>4</td>\n",
       "      <td>4</td>\n",
       "      <td>0</td>\n",
       "      <td>0</td>\n",
       "      <td>26</td>\n",
       "      <td>3</td>\n",
       "      <td>13100000</td>\n",
       "    </tr>\n",
       "    <tr>\n",
       "      <th>4</th>\n",
       "      <td>5</td>\n",
       "      <td>2011-09-05</td>\n",
       "      <td>77</td>\n",
       "      <td>77.0</td>\n",
       "      <td>4.0</td>\n",
       "      <td>NaN</td>\n",
       "      <td>NaN</td>\n",
       "      <td>NaN</td>\n",
       "      <td>NaN</td>\n",
       "      <td>NaN</td>\n",
       "      <td>...</td>\n",
       "      <td>319</td>\n",
       "      <td>108</td>\n",
       "      <td>17</td>\n",
       "      <td>135</td>\n",
       "      <td>236</td>\n",
       "      <td>2</td>\n",
       "      <td>91</td>\n",
       "      <td>195</td>\n",
       "      <td>14</td>\n",
       "      <td>16331452</td>\n",
       "    </tr>\n",
       "  </tbody>\n",
       "</table>\n",
       "<p>5 rows × 292 columns</p>\n",
       "</div>"
      ],
      "text/plain": [
       "   id   timestamp  full_sq  life_sq  floor  max_floor  material  build_year  \\\n",
       "0   1  2011-08-20       43     27.0    4.0        NaN       NaN         NaN   \n",
       "1   2  2011-08-23       34     19.0    3.0        NaN       NaN         NaN   \n",
       "2   3  2011-08-27       43     29.0    2.0        NaN       NaN         NaN   \n",
       "3   4  2011-09-01       89     50.0    9.0        NaN       NaN         NaN   \n",
       "4   5  2011-09-05       77     77.0    4.0        NaN       NaN         NaN   \n",
       "\n",
       "   num_room  kitch_sq    ...      cafe_count_5000_price_2500  \\\n",
       "0       NaN       NaN    ...                               9   \n",
       "1       NaN       NaN    ...                              15   \n",
       "2       NaN       NaN    ...                              10   \n",
       "3       NaN       NaN    ...                              11   \n",
       "4       NaN       NaN    ...                             319   \n",
       "\n",
       "  cafe_count_5000_price_4000 cafe_count_5000_price_high  \\\n",
       "0                          4                          0   \n",
       "1                          3                          0   \n",
       "2                          3                          0   \n",
       "3                          2                          1   \n",
       "4                        108                         17   \n",
       "\n",
       "   big_church_count_5000  church_count_5000  mosque_count_5000  \\\n",
       "0                     13                 22                  1   \n",
       "1                     15                 29                  1   \n",
       "2                     11                 27                  0   \n",
       "3                      4                  4                  0   \n",
       "4                    135                236                  2   \n",
       "\n",
       "   leisure_count_5000  sport_count_5000  market_count_5000  price_doc  \n",
       "0                   0                52                  4    5850000  \n",
       "1                  10                66                 14    6000000  \n",
       "2                   4                67                 10    5700000  \n",
       "3                   0                26                  3   13100000  \n",
       "4                  91               195                 14   16331452  \n",
       "\n",
       "[5 rows x 292 columns]"
      ]
     },
     "execution_count": 4,
     "metadata": {},
     "output_type": "execute_result"
    }
   ],
   "source": [
    "houses_train.head()\n"
   ]
  },
  {
   "cell_type": "code",
   "execution_count": 6,
   "metadata": {},
   "outputs": [
    {
     "name": "stdout",
     "output_type": "stream",
     "text": [
      "count    3.047100e+04\n",
      "mean     7.123035e+06\n",
      "std      4.780111e+06\n",
      "min      1.000000e+05\n",
      "25%      4.740002e+06\n",
      "50%      6.274411e+06\n",
      "75%      8.300000e+06\n",
      "max      1.111111e+08\n",
      "Name: price_doc, dtype: float64\n"
     ]
    },
    {
     "name": "stderr",
     "output_type": "stream",
     "text": [
      "C:\\Users\\ML\\Anaconda3\\lib\\site-packages\\matplotlib\\axes\\_axes.py:6462: UserWarning: The 'normed' kwarg is deprecated, and has been replaced by the 'density' kwarg.\n",
      "  warnings.warn(\"The 'normed' kwarg is deprecated, and has been \"\n"
     ]
    },
    {
     "data": {
      "text/plain": [
       "<matplotlib.axes._subplots.AxesSubplot at 0xb6e92b0>"
      ]
     },
     "execution_count": 6,
     "metadata": {},
     "output_type": "execute_result"
    },
    {
     "data": {
      "image/png": "[encoded data removed]",
      "text/plain": [
       "<Figure size 432x288 with 1 Axes>"
      ]
     },
     "metadata": {},
     "output_type": "display_data"
    }
   ],
   "source": [
    "print(houses_train['price_doc'].describe())\n",
    "sns.distplot(houses_train['price_doc'])"
   ]
  },
  {
   "cell_type": "code",
   "execution_count": 6,
   "metadata": {},
   "outputs": [
    {
     "data": {
      "text/plain": [
       "id                0\n",
       "timestamp         0\n",
       "full_sq           0\n",
       "life_sq        6383\n",
       "floor           167\n",
       "max_floor      9572\n",
       "material       9572\n",
       "build_year    13605\n",
       "num_room       9572\n",
       "kitch_sq       9572\n",
       "dtype: int64"
      ]
     },
     "execution_count": 6,
     "metadata": {},
     "output_type": "execute_result"
    }
   ],
   "source": [
    "missing_values_count = houses_train.isnull().sum()\n",
    "missing_values_count[0:10]"
   ]
  },
  {
   "cell_type": "code",
   "execution_count": 7,
   "metadata": {},
   "outputs": [
    {
     "data": {
      "text/plain": [
       "2.9336899265998704"
      ]
     },
     "execution_count": 7,
     "metadata": {},
     "output_type": "execute_result"
    }
   ],
   "source": [
    "total_cells = np.product(houses_train.shape)\n",
    "total_missing = missing_values_count.sum()\n",
    "\n",
    "(total_missing/total_cells) * 100"
   ]
  },
  {
   "cell_type": "code",
   "execution_count": 8,
   "metadata": {},
   "outputs": [
    {
     "name": "stdout",
     "output_type": "stream",
     "text": [
      "20899\n"
     ]
    }
   ],
   "source": [
    "# remove all the rows that contain a missing value on num_room\n",
    "rows_with_na_dropped = houses_train.num_room.dropna()\n",
    "inst_with_num_room = rows_with_na_dropped.index.tolist()\n",
    "train1 = pd.DataFrame(data = houses_train.loc[np.squeeze(inst_with_num_room)])\n",
    "print(len(inst_with_num_room))"
   ]
  },
  {
   "cell_type": "code",
   "execution_count": 10,
   "metadata": {},
   "outputs": [],
   "source": [
    "#correcting life_sq data\n",
    "conditions = [(train1['life_sq'].isna()), (train1['life_sq']>train1['full_sq'])]\n",
    "choices = [train1['full_sq'], train1['full_sq']]\n",
    "train1['life_sq_mod'] = np.select(conditions, choices, default=train1['life_sq'])"
   ]
  },
  {
   "cell_type": "code",
   "execution_count": 11,
   "metadata": {},
   "outputs": [],
   "source": [
    "#correcting floor data\n",
    "conditions = [(train1['floor']>train1['max_floor'])]\n",
    "choices = [train1['max_floor']]\n",
    "train1['floor_mod'] = np.select(conditions, choices, default=train1['floor'])"
   ]
  },
  {
   "cell_type": "code",
   "execution_count": 12,
   "metadata": {},
   "outputs": [],
   "source": [
    "#correcting build_year data\n",
    "conditions = [(train1['build_year']>2018), (train1['build_year']<1900)]\n",
    "choices = [np.nan, np.nan]\n",
    "train1['build_year_mod'] = np.select(conditions, choices, default=train1['build_year'])"
   ]
  },
  {
   "cell_type": "code",
   "execution_count": 13,
   "metadata": {},
   "outputs": [],
   "source": [
    "#correcting kitch_sq data\n",
    "conditions = [(train1['kitch_sq']>train1['life_sq_mod'])]\n",
    "choices = [np.nan]\n",
    "train1['kitch_sq_mod'] = np.select(conditions, choices, default=train1['kitch_sq'])"
   ]
  },
  {
   "cell_type": "code",
   "execution_count": 14,
   "metadata": {},
   "outputs": [
    {
     "name": "stdout",
     "output_type": "stream",
     "text": [
      "20843\n",
      "20843\n"
     ]
    }
   ],
   "source": [
    "# remove all the columns that contain a missing value on kitch_sq_mod\n",
    "valid_kitch = train1.kitch_sq_mod.dropna()\n",
    "inst_with_kitch_sq = valid_kitch.index.tolist()\n",
    "train2 = pd.DataFrame(data = train1.loc[np.squeeze(inst_with_kitch_sq)])\n",
    "print(len(inst_with_kitch_sq))\n",
    "print(train2.shape[0])"
   ]
  },
  {
   "cell_type": "code",
   "execution_count": 15,
   "metadata": {},
   "outputs": [
    {
     "name": "stdout",
     "output_type": "stream",
     "text": [
      "15904\n",
      "15904\n"
     ]
    }
   ],
   "source": [
    "# remove all the columns that contain a missing value on build_year_mod\n",
    "valid_build_year = train2.build_year_mod.dropna()\n",
    "inst_with_build_year = valid_build_year.index.tolist()\n",
    "train3 = pd.DataFrame(data = train2.loc[np.squeeze(inst_with_build_year)])\n",
    "print(len(inst_with_build_year))\n",
    "print(train3.shape[0])"
   ]
  },
  {
   "cell_type": "code",
   "execution_count": 16,
   "metadata": {},
   "outputs": [
    {
     "data": {
      "text/plain": [
       "1.25495370873892"
      ]
     },
     "execution_count": 16,
     "metadata": {},
     "output_type": "execute_result"
    }
   ],
   "source": [
    "total_cells = np.product(train3.shape)\n",
    "missing_values_count = train3.isnull().sum()\n",
    "total_missing = missing_values_count.sum()\n",
    "(total_missing/total_cells) * 100"
   ]
  },
  {
   "cell_type": "code",
   "execution_count": 17,
   "metadata": {},
   "outputs": [],
   "source": [
    "# remove all the columns that contain a missing value and with unnessesary data and rename  modified columns' names \n",
    "train4 = train3.dropna(axis=1)\n",
    "train5 = train4.drop(['timestamp', 'floor', 'build_year', 'kitch_sq'], axis=1)\n",
    "train5 = train5.rename(index=str, columns={\"life_sq_mod\":\"life_sq\",\"floor_mod\":\"floor\", \"build_year_mod\":\"build_year\", \"kitch_sq_mod\":\"kitch_sq\"})"
   ]
  },
  {
   "cell_type": "code",
   "execution_count": 18,
   "metadata": {},
   "outputs": [
    {
     "data": {
      "text/plain": [
       "id                                       0\n",
       "full_sq                                  0\n",
       "max_floor                                0\n",
       "material                                 0\n",
       "num_room                                 0\n",
       "product_type                             0\n",
       "sub_area                                 0\n",
       "area_m                                   0\n",
       "raion_popul                              0\n",
       "green_zone_part                          0\n",
       "indust_part                              0\n",
       "children_preschool                       0\n",
       "preschool_education_centers_raion        0\n",
       "children_school                          0\n",
       "school_education_centers_raion           0\n",
       "school_education_centers_top_20_raion    0\n",
       "healthcare_centers_raion                 0\n",
       "university_top_20_raion                  0\n",
       "sport_objects_raion                      0\n",
       "additional_education_raion               0\n",
       "culture_objects_top_25                   0\n",
       "culture_objects_top_25_raion             0\n",
       "shopping_centers_raion                   0\n",
       "office_raion                             0\n",
       "thermal_power_plant_raion                0\n",
       "incineration_raion                       0\n",
       "oil_chemistry_raion                      0\n",
       "radiation_raion                          0\n",
       "railroad_terminal_raion                  0\n",
       "big_market_raion                         0\n",
       "                                        ..\n",
       "big_church_count_3000                    0\n",
       "church_count_3000                        0\n",
       "mosque_count_3000                        0\n",
       "leisure_count_3000                       0\n",
       "sport_count_3000                         0\n",
       "market_count_3000                        0\n",
       "green_part_5000                          0\n",
       "office_count_5000                        0\n",
       "office_sqm_5000                          0\n",
       "trc_count_5000                           0\n",
       "trc_sqm_5000                             0\n",
       "cafe_count_5000                          0\n",
       "cafe_count_5000_na_price                 0\n",
       "cafe_count_5000_price_500                0\n",
       "cafe_count_5000_price_1000               0\n",
       "cafe_count_5000_price_1500               0\n",
       "cafe_count_5000_price_2500               0\n",
       "cafe_count_5000_price_4000               0\n",
       "cafe_count_5000_price_high               0\n",
       "big_church_count_5000                    0\n",
       "church_count_5000                        0\n",
       "mosque_count_5000                        0\n",
       "leisure_count_5000                       0\n",
       "sport_count_5000                         0\n",
       "market_count_5000                        0\n",
       "price_doc                                0\n",
       "life_sq                                  0\n",
       "floor                                    0\n",
       "build_year                               0\n",
       "kitch_sq                                 0\n",
       "Length: 247, dtype: int64"
      ]
     },
     "execution_count": 18,
     "metadata": {},
     "output_type": "execute_result"
    }
   ],
   "source": [
    "missing_values_count = train5.isnull().sum()\n",
    "missing_values_count.index[1:6]\n",
    "\n",
    "missing_values_count"
   ]
  },
  {
   "cell_type": "code",
   "execution_count": 19,
   "metadata": {},
   "outputs": [
    {
     "name": "stdout",
     "output_type": "stream",
     "text": [
      "count    15904.000000\n",
      "mean        15.688510\n",
      "std          0.634693\n",
      "min         11.512926\n",
      "25%         15.483217\n",
      "50%         15.739759\n",
      "75%         16.034714\n",
      "max         18.370676\n",
      "Name: LogAmt, dtype: float64\n"
     ]
    },
    {
     "name": "stderr",
     "output_type": "stream",
     "text": [
      "C:\\Users\\ML\\Anaconda3\\lib\\site-packages\\matplotlib\\axes\\_axes.py:6462: UserWarning: The 'normed' kwarg is deprecated, and has been replaced by the 'density' kwarg.\n",
      "  warnings.warn(\"The 'normed' kwarg is deprecated, and has been \"\n"
     ]
    },
    {
     "data": {
      "text/plain": [
       "<matplotlib.axes._subplots.AxesSubplot at 0x69b9630>"
      ]
     },
     "execution_count": 19,
     "metadata": {},
     "output_type": "execute_result"
    },
    {
     "data": {
      "image/png": "[encoded data removed]",
      "text/plain": [
       "<Figure size 432x288 with 1 Axes>"
      ]
     },
     "metadata": {},
     "output_type": "display_data"
    }
   ],
   "source": [
    "train5['LogAmt']=np.log(train5.price_doc+0.005)\n",
    "print(train5['LogAmt'].describe())\n",
    "sns.distplot(train5['LogAmt'])"
   ]
  },
  {
   "cell_type": "code",
   "execution_count": 20,
   "metadata": {},
   "outputs": [],
   "source": [
    "train5.to_csv('clean_dataset.csv')"
   ]
  },
  {
   "cell_type": "code",
   "execution_count": 30,
   "metadata": {},
   "outputs": [
    {
     "data": {
      "image/png": "[encoded data removed]",
      "text/plain": [
       "<Figure size 864x1296 with 1 Axes>"
      ]
     },
     "metadata": {},
     "output_type": "display_data"
    }
   ],
   "source": [
    "from sklearn.model_selection import train_test_split\n",
    "\n",
    "for f in train5.columns:\n",
    "    if train5[f].dtype=='object':       \n",
    "        lbl = preprocessing.LabelEncoder()\n",
    "        lbl.fit(list(train5[f].values)) \n",
    "        train5[f] = lbl.transform(list(train5[f].values))\n",
    "        \n",
    "y = train5.price_doc.values\n",
    "X = train5[[\"full_sq\", \"life_sq\", \"num_room\", \"kitch_sq\", \"build_year\", \"floor\", \"max_floor\"]]\n",
    "\n",
    "# split data into train and test sets\n",
    "X_train, X_val, y_train, y_val = train_test_split(X, y, test_size=0.2, random_state=7)\n",
    "\n",
    "\n",
    "xgb_params = {\n",
    "    'eta': 0.05,\n",
    "    'max_depth': 8,\n",
    "    'subsample': 0.7,\n",
    "    'colsample_bytree': 0.7,\n",
    "    'objective': 'reg:linear',\n",
    "    'eval_metric': 'rmse',\n",
    "    'silent': 1\n",
    "}\n",
    "dtrain = xgb.DMatrix(X_train, y_train, feature_names=X_train.columns.values)\n",
    "model = xgb.train(dict(xgb_params, silent=0), dtrain, num_boost_round=100)\n",
    "model.save_model('house_price')\n",
    "\n",
    "# plot the important features #\n",
    "fig, ax = plt.subplots(figsize=(12,18))\n",
    "xgb.plot_importance(model, max_num_features=50, height=0.8, ax=ax)\n",
    "plt.show()"
   ]
  },
  {
   "cell_type": "code",
   "execution_count": 33,
   "metadata": {},
   "outputs": [],
   "source": [
    "# houses_test = houses_test[[\"full_sq\", \"life_sq\", \"num_room\", \"kitch_sq\", \"build_year\", \"floor\", \"max_floor\", \"price_doc\"]]\n",
    "# houses_test = houses_test.dropna()\n",
    "# test_X = houses_test[[\"full_sq\", \"life_sq\", \"num_room\", \"kitch_sq\", \"build_year\", \"floor\", \"max_floor\"]]\n",
    "# test_y = houses_test.price_doc.values\n",
    "\n",
    "dtest = xgb.DMatrix(X_val, feature_names=X_val.columns.values)\n",
    "y_pred = model.predict(dtest)"
   ]
  },
  {
   "cell_type": "code",
   "execution_count": 39,
   "metadata": {},
   "outputs": [
    {
     "name": "stdout",
     "output_type": "stream",
     "text": [
      "RMSE: 3286289.64\n"
     ]
    }
   ],
   "source": [
    "# evaluate predictions\n",
    "from sklearn.metrics import mean_squared_error\n",
    "from math import sqrt\n",
    "\n",
    "MSE = mean_squared_error(y_val, y_pred)\n",
    "print(\"RMSE: %.2f\" % sqrt(MSE))"
   ]
  },
  {
   "cell_type": "code",
   "execution_count": null,
   "metadata": {},
   "outputs": [],
   "source": [
    "# ulimit = np.percentile(houses_train.price_doc.values, 99.5)\n",
    "# llimit = np.percentile(houses_train.price_doc.values, 0.5)\n",
    "# houses_train['price_doc'].ix[houses_train['price_doc']>ulimit] = ulimit\n",
    "# houses_train['price_doc'].ix[houses_train['price_doc']<llimit] = llimit\n",
    "\n",
    "# col = \"full_sq\"\n",
    "# ulimit = np.percentile(houses_train[col].values, 99.5)\n",
    "# llimit = np.percentile(houses_train[col].values, 0.5)\n",
    "# houses_train[col].ix[houses_train[col]>ulimit] = ulimit\n",
    "# houses_train[col].ix[houses_train[col]<llimit] = llimit\n",
    "\n",
    "# plt.figure(figsize=(12,12))\n",
    "# sns.jointplot(x=np.log1p(houses_train.full_sq.values), y=np.log1p(houses_train.price_doc.values), size=10)\n",
    "# plt.ylabel('Log of Price', fontsize=12)\n",
    "# plt.xlabel('Log of Total area in square metre', fontsize=12)\n",
    "# plt.show()"
   ]
  },
  {
   "cell_type": "markdown",
   "metadata": {},
   "source": [
    "TO DO: pipeline with simple XGboost and linear regresion"
   ]
  },
  {
   "cell_type": "code",
   "execution_count": null,
   "metadata": {},
   "outputs": [],
   "source": []
  }
 ],
 "metadata": {
  "kernelspec": {
   "display_name": "Python 3",
   "language": "python",
   "name": "python3"
  },
  "language_info": {
   "codemirror_mode": {
    "name": "ipython",
    "version": 3
   },
   "file_extension": ".py",
   "mimetype": "text/x-python",
   "name": "python",
   "nbconvert_exporter": "python",
   "pygments_lexer": "ipython3",
   "version": "3.6.5"
  }
 },
 "nbformat": 4,
 "nbformat_minor": 2
}
