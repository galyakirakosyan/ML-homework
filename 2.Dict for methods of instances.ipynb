{
 "cells": [
  {
   "cell_type": "code",
   "execution_count": 19,
   "metadata": {},
   "outputs": [],
   "source": [
    "class Employee:\n",
    "    def __init__(self, first, last, pay):\n",
    "        self.first = first\n",
    "        self.last = last\n",
    "        self.pay = pay\n",
    "        \n",
    "    def fullname(self):\n",
    "        return '{} {}'.format(self.first, self.last)\n",
    "\n",
    "    def email(self):\n",
    "        return '{}.{}@company.com'.format(self.first, self.last)\n",
    "    \n",
    "    def apply_raise(self):\n",
    "        return int(self.pay * 1.25)\n"
   ]
  },
  {
   "cell_type": "code",
   "execution_count": 20,
   "metadata": {},
   "outputs": [
    {
     "name": "stdout",
     "output_type": "stream",
     "text": [
      "Adam Sandler George.Clooney@company.com 1500\n"
     ]
    }
   ],
   "source": [
    "a = Employee('Adam', 'Sandler', 1000)\n",
    "b = Employee('George', 'Clooney', 1500)\n",
    "c = Employee('Jenifer', 'Aniston', 1200)\n",
    "\n",
    "print(a.fullname(), b.email(), c.apply_raise())"
   ]
  },
  {
   "cell_type": "code",
   "execution_count": 21,
   "metadata": {},
   "outputs": [],
   "source": [
    "def dict_for_methods(emp):\n",
    "    dict = {}\n",
    "    dict['fullname'] = emp.fullname()\n",
    "    dict['email'] = emp.email()\n",
    "    dict['apply_raise'] = emp.apply_raise()\n",
    "    return dict"
   ]
  },
  {
   "cell_type": "code",
   "execution_count": 23,
   "metadata": {},
   "outputs": [
    {
     "name": "stdout",
     "output_type": "stream",
     "text": [
      "{'fullname': 'Adam Sandler', 'email': 'Adam.Sandler@company.com', 'apply_raise': 1250}\n",
      "{'fullname': 'George Clooney', 'email': 'George.Clooney@company.com', 'apply_raise': 1875}\n",
      "{'fullname': 'Jenifer Aniston', 'email': 'Jenifer.Aniston@company.com', 'apply_raise': 1500}\n"
     ]
    }
   ],
   "source": [
    "print(dict_for_methods(a))\n",
    "print(dict_for_methods(b))\n",
    "print(dict_for_methods(c))"
   ]
  }
 ],
 "metadata": {
  "kernelspec": {
   "display_name": "Python 3",
   "language": "python",
   "name": "python3"
  },
  "language_info": {
   "codemirror_mode": {
    "name": "ipython",
    "version": 3
   },
   "file_extension": ".py",
   "mimetype": "text/x-python",
   "name": "python",
   "nbconvert_exporter": "python",
   "pygments_lexer": "ipython3",
   "version": "3.6.5"
  }
 },
 "nbformat": 4,
 "nbformat_minor": 2
}
